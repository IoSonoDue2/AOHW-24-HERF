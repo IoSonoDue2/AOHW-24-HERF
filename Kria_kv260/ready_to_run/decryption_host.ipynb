{
 "cells": [
  {
   "cell_type": "code",
   "execution_count": 1,
   "id": "d6a225f2",
   "metadata": {},
   "outputs": [],
   "source": [
    "from pynq import Overlay\n",
    "from pynq import allocate \n",
    "import numpy as np\n",
    "import struct\n",
    "import subprocess\n",
    "import time\n",
    "import re"
   ]
  },
  {
   "cell_type": "code",
   "execution_count": 2,
   "id": "b63e0043",
   "metadata": {},
   "outputs": [],
   "source": [
    "#PARAMETERS\n",
    "MAX_ROT_GROUP_SIZE = 128\n",
    "MAX_KSI_POWS_SIZE = 513\n",
    "MAX_QPOW_VEC_SIZE = 65\n",
    "SIGMA = 3.2\n",
    "H = 64 \n",
    "RND_SIZE = 257\n",
    "LOG_N = 8\n",
    "LOG_Q = 32\n",
    "LOG_q = 32\n",
    "LOG_P = 30\n",
    "MAX_Z_SIZE = 256\n",
    "MAX_ZZX_DEGREE = 513\n",
    "MAX_SLOTS = 8\n",
    "slots = np.int64(8)"
   ]
  },
  {
   "cell_type": "code",
   "execution_count": 3,
   "id": "994ccfb9",
   "metadata": {},
   "outputs": [],
   "source": [
    "secret_key_coeff_filename = \"data/secretKey.data\"\n",
    "secret_key_degree_filename = \"data/secretKey.degree\"\n",
    "\n",
    "message_filename = \"data/message.data\"\n",
    "\n",
    "cipher_ax_coeff_filename = \"data/cipherAx.data\"\n",
    "cipher_ax_degree_filename = \"data/cipherAx.degree\"\n",
    "\n",
    "cipher_bx_coeff_filename = \"data/cipherBx.data\"\n",
    "cipher_bx_degree_filename = \"data/cipherBx.degree\"\n",
    "\n",
    "decrypted_message_filename = \"data/decrypted.data\"\n",
    "\n",
    "data_generator_path = './data_gen'"
   ]
  },
  {
   "cell_type": "code",
   "execution_count": 4,
   "id": "80791475",
   "metadata": {},
   "outputs": [
    {
     "name": "stdout",
     "output_type": "stream",
     "text": [
      "Output stdout: context initiazlied\n",
      "Context Parameters : \n",
      "sigma: 3.2\n",
      "h: 64\n",
      "N: 256\n",
      "Nh: 128\n",
      "logNh: 7\n",
      "M: 512\n",
      "logQQ: 64\n",
      "Q: 4294967296\n",
      "QQ: 18446744073709551616\n",
      "secret key initialized\n",
      "scheme initialized\n",
      "[INFO] SW encryption execution time: 1051864 microseconds\n",
      "[INFO] SW decryption execution time: 507172 microseconds\n",
      "\n"
     ]
    }
   ],
   "source": [
    "# Execute the binary for data generation\n",
    "result = subprocess.run([data_generator_path], capture_output=True, text=True)\n",
    "\n",
    "# Check the return code to see if the execution was successful\n",
    "if result.returncode == 0:\n",
    "    # Print the output of the binary\n",
    "    print(\"Output stdout:\", result.stdout)\n",
    "else:\n",
    "    # Print the error if the binary was not executed successfully\n",
    "    print(\"Error executing the binary\")\n",
    "    print(\"Output stderr:\", result.stderr)\n",
    "\n",
    "output = result.stdout\n",
    "encryption_time_match = re.search(r'\\[INFO\\] SW encryption execution time: (\\d+) microseconds', output)\n",
    "decryption_time_match = re.search(r'\\[INFO\\] SW decryption execution time: (\\d+) microseconds', output)\n",
    "\n",
    "if encryption_time_match and decryption_time_match:\n",
    "    encryption_time = int(encryption_time_match.group(1))\n",
    "    decryption_time = int(decryption_time_match.group(1))"
   ]
  },
  {
   "cell_type": "code",
   "execution_count": 5,
   "id": "8cd1dd8b",
   "metadata": {},
   "outputs": [],
   "source": [
    "def read_int64_from_file(filename):\n",
    "    # Reads a single 64-bit integer from the binary file\n",
    "    data = np.fromfile(filename, dtype=np.int64, count=1)\n",
    "    \n",
    "    # Checks if the file contains at least one 64-bit integer\n",
    "    if data.size == 0:\n",
    "        raise ValueError(f\"The file {filename} is empty or does not contain a valid 64-bit integer.\")\n",
    "    \n",
    "    return data[0]"
   ]
  },
  {
   "cell_type": "code",
   "execution_count": 6,
   "id": "211bb769",
   "metadata": {},
   "outputs": [],
   "source": [
    "def read_and_convert_array(filename, size, max_z_size):\n",
    "    # Calculates the number of int64 needed to represent an integer of max_z_size bits\n",
    "    num_int64 = max_z_size // 64\n",
    "    \n",
    "    # Reads the data from the binary file as integers of max_z_size bits\n",
    "    data = np.fromfile(filename, dtype=np.int64, count=size*num_int64)\n",
    "    \n",
    "    return data"
   ]
  },
  {
   "cell_type": "code",
   "execution_count": 7,
   "id": "f27e705f",
   "metadata": {},
   "outputs": [],
   "source": [
    "def read_complex_array_from_file(filename, size):\n",
    "    # Reads the data from the binary file as 128-bit complex numbers (complex128)\n",
    "    data = np.fromfile(filename, dtype=np.complex128, count=size)\n",
    "\n",
    "    return data"
   ]
  },
  {
   "cell_type": "code",
   "execution_count": 8,
   "id": "f962731a",
   "metadata": {},
   "outputs": [
    {
     "name": "stdout",
     "output_type": "stream",
     "text": [
      "Secret key degree: 256\n"
     ]
    }
   ],
   "source": [
    "sx_degree = read_int64_from_file(secret_key_degree_filename)\n",
    "print(f\"Secret key degree: {sx_degree}\")"
   ]
  },
  {
   "cell_type": "code",
   "execution_count": 9,
   "id": "2f57770e",
   "metadata": {},
   "outputs": [
    {
     "name": "stdout",
     "output_type": "stream",
     "text": [
      "Size of the secret key in bytes: 8224\n"
     ]
    }
   ],
   "source": [
    "sx = read_and_convert_array(secret_key_coeff_filename, sx_degree +1, MAX_Z_SIZE)\n",
    "print(f\"Size of the secret key in bytes: {sx.nbytes}\")\n"
   ]
  },
  {
   "cell_type": "code",
   "execution_count": 10,
   "id": "b0f4cbb6",
   "metadata": {},
   "outputs": [
    {
     "name": "stdout",
     "output_type": "stream",
     "text": [
      "Cipher.ax degree: 256\n",
      "Size of Cipher.ax in bytes: 8224\n"
     ]
    }
   ],
   "source": [
    "ci_ax_degree = read_int64_from_file(cipher_ax_degree_filename)\n",
    "print(f\"Cipher.ax degree: {ci_ax_degree}\")\n",
    "\n",
    "ci_ax = read_and_convert_array(cipher_ax_coeff_filename, ci_ax_degree + 1, MAX_Z_SIZE)\n",
    "print(f\"Size of Cipher.ax in bytes: {ci_ax.nbytes}\")\n"
   ]
  },
  {
   "cell_type": "code",
   "execution_count": 11,
   "id": "06d82180",
   "metadata": {},
   "outputs": [
    {
     "name": "stdout",
     "output_type": "stream",
     "text": [
      "Cipher.bx degree: 256\n",
      "Size of Cipher.bx in bytes: 8224\n"
     ]
    }
   ],
   "source": [
    "ci_bx_degree = read_int64_from_file(cipher_bx_degree_filename)\n",
    "print(f\"Cipher.bx degree: {ci_bx_degree}\")\n",
    "\n",
    "ci_bx = read_and_convert_array(cipher_bx_coeff_filename, ci_bx_degree + 1, MAX_Z_SIZE)\n",
    "print(f\"Size of Cipher.bx in bytes: {ci_bx.nbytes}\")\n"
   ]
  },
  {
   "cell_type": "code",
   "execution_count": 12,
   "id": "795a066d",
   "metadata": {},
   "outputs": [
    {
     "name": "stdout",
     "output_type": "stream",
     "text": [
      "Size of the message array in bytes: 128\n",
      "Message Array: [0.24428 +0.651282j 0.868426+0.678266j 0.777887+0.301179j\n",
      " 0.883243+0.13489j  0.991355+0.510088j 0.710801+0.774569j\n",
      " 0.809488+0.386638j 0.609341+0.486097j]\n"
     ]
    }
   ],
   "source": [
    "message_array = read_complex_array_from_file(message_filename, slots)\n",
    "print(f\"Size of the message array in bytes: {message_array.nbytes}\")\n",
    "print(\"Message Array:\", message_array)"
   ]
  },
  {
   "cell_type": "code",
   "execution_count": 13,
   "id": "9dac849e",
   "metadata": {},
   "outputs": [
    {
     "data": {
      "application/javascript": [
       "\n",
       "try {\n",
       "require(['notebook/js/codecell'], function(codecell) {\n",
       "  codecell.CodeCell.options_default.highlight_modes[\n",
       "      'magic_text/x-csrc'] = {'reg':[/^%%microblaze/]};\n",
       "  Jupyter.notebook.events.one('kernel_ready.Kernel', function(){\n",
       "      Jupyter.notebook.get_cells().map(function(cell){\n",
       "          if (cell.cell_type == 'code'){ cell.auto_highlight(); } }) ;\n",
       "  });\n",
       "});\n",
       "} catch (e) {};\n"
      ]
     },
     "metadata": {},
     "output_type": "display_data"
    },
    {
     "data": {
      "application/javascript": [
       "\n",
       "try {\n",
       "require(['notebook/js/codecell'], function(codecell) {\n",
       "  codecell.CodeCell.options_default.highlight_modes[\n",
       "      'magic_text/x-csrc'] = {'reg':[/^%%pybind11/]};\n",
       "  Jupyter.notebook.events.one('kernel_ready.Kernel', function(){\n",
       "      Jupyter.notebook.get_cells().map(function(cell){\n",
       "          if (cell.cell_type == 'code'){ cell.auto_highlight(); } }) ;\n",
       "  });\n",
       "});\n",
       "} catch (e) {};\n"
      ]
     },
     "metadata": {},
     "output_type": "display_data"
    }
   ],
   "source": [
    "overlay = Overlay(\"./ckks_decryption_wrapper1.xsa\")"
   ]
  },
  {
   "cell_type": "code",
   "execution_count": 14,
   "id": "8f102160",
   "metadata": {},
   "outputs": [],
   "source": [
    "dec_ip = overlay.ckks_dec_ker_0"
   ]
  },
  {
   "cell_type": "code",
   "execution_count": 15,
   "id": "71f59118",
   "metadata": {},
   "outputs": [],
   "source": [
    "buf_sx = allocate((sx_degree+1)*(MAX_Z_SIZE//64), np.int64)\n",
    "\n",
    "buf_sx[:] = sx[:]\n",
    "buf_sx.flush()\n",
    "\n",
    "buf_ci_ax = allocate((ci_ax_degree+1)*(MAX_Z_SIZE//64), np.int64)\n",
    "\n",
    "buf_ci_ax[:] = ci_ax[:]\n",
    "buf_ci_ax.flush()\n",
    "\n",
    "buf_ci_bx = allocate((ci_bx_degree+1)*(MAX_Z_SIZE//64), np.int64)\n",
    "buf_ci_bx[:] = ci_bx[:]\n",
    "buf_ci_bx.flush()\n",
    "\n",
    "buf_message = allocate(MAX_SLOTS, np.complex128)"
   ]
  },
  {
   "cell_type": "code",
   "execution_count": 16,
   "id": "77dfd68b",
   "metadata": {},
   "outputs": [],
   "source": [
    "slots_bytes = slots.tobytes()\n",
    "sx_degree_b = sx_degree.tobytes()\n",
    "ci_ax_degree_b = ci_ax_degree.tobytes()\n",
    "ci_bx_degree_b = ci_bx_degree.tobytes()"
   ]
  },
  {
   "cell_type": "code",
   "execution_count": 17,
   "id": "3cb38a84",
   "metadata": {},
   "outputs": [],
   "source": [
    "dec_ip.write(0x10,buf_sx.physical_address)\n",
    "dec_ip.write(0x1c,sx_degree_b[:4])\n",
    "dec_ip.write(0x20,sx_degree_b[-4:])\n",
    "dec_ip.write(0x28,buf_ci_ax.physical_address)\n",
    "dec_ip.write(0x34,buf_ci_bx.physical_address)\n",
    "dec_ip.write(0x40,ci_ax_degree_b[:4])\n",
    "dec_ip.write(0x44,ci_ax_degree_b[-4:])\n",
    "dec_ip.write(0x4c,ci_bx_degree_b[:4])\n",
    "dec_ip.write(0x50,ci_bx_degree_b[-4:])\n",
    "dec_ip.write(0x58,slots_bytes[:4])\n",
    "dec_ip.write(0x5c,slots_bytes[-4:])\n",
    "dec_ip.write(0x64,buf_message.physical_address)"
   ]
  },
  {
   "cell_type": "code",
   "execution_count": 18,
   "id": "cbe02e98",
   "metadata": {},
   "outputs": [],
   "source": [
    "dec_ip.write(0x00,1)\n",
    "start_time = time.perf_counter()\n",
    "while(dec_ip.read(0x00) & 0x04 != 0x04):\n",
    "      pass\n",
    "end_time = time.perf_counter()\n"
   ]
  },
  {
   "cell_type": "code",
   "execution_count": 19,
   "id": "206f2aa8",
   "metadata": {},
   "outputs": [],
   "source": [
    "# Calculate the execution time in microseconds\n",
    "execution_time_us = (end_time - start_time) * 1_000_000\n"
   ]
  },
  {
   "cell_type": "code",
   "execution_count": 20,
   "id": "6f729d54",
   "metadata": {},
   "outputs": [],
   "source": [
    "buf_message.invalidate()"
   ]
  },
  {
   "cell_type": "code",
   "execution_count": 21,
   "id": "7d4a15bf",
   "metadata": {},
   "outputs": [
    {
     "name": "stdout",
     "output_type": "stream",
     "text": [
      "Size of the decrypted message in bytes: 128\n"
     ]
    }
   ],
   "source": [
    "decrypted_message = read_complex_array_from_file(decrypted_message_filename, slots)\n",
    "print(f\"Size of the decrypted message in bytes: {decrypted_message.nbytes}\")\n"
   ]
  },
  {
   "cell_type": "code",
   "execution_count": 22,
   "id": "facc2e5c",
   "metadata": {},
   "outputs": [],
   "source": [
    "for i in range(0, slots):\n",
    "    # Round both values to 15 decimal places\n",
    "    buf_val = np.round(buf_message[i], 15)\n",
    "    decrypted_val = np.round(decrypted_message[i], 15)\n",
    "    \n",
    "    if buf_val != decrypted_val:\n",
    "        print(\"ERROR HW DECRYPTED MESSAGE IS DIFFERENT AT INDEX: \",i,\" ERROR: \",buf_val - decrypted_val)"
   ]
  },
  {
   "cell_type": "code",
   "execution_count": 23,
   "id": "d21313ab",
   "metadata": {},
   "outputs": [
    {
     "name": "stdout",
     "output_type": "stream",
     "text": [
      "Noise Detected during decryption: ~~  (-8.115658700624806e-10-5.378828160651494e-09j)\n",
      "Noise Detected during decryption: ~~  (3.168058038127697e-10-1.4927411529086498e-09j)\n",
      "Noise Detected during decryption: ~~  (4.247935336820774e-12+4.866468339415064e-10j)\n",
      "Noise Detected during decryption: ~~  (-1.405039196100688e-09+1.5683042642322675e-09j)\n",
      "Noise Detected during decryption: ~~  (-4.088327454354612e-10-1.0848363318771703e-09j)\n",
      "Noise Detected during decryption: ~~  (-1.5094723249120534e-09+8.10279843221906e-10j)\n",
      "Noise Detected during decryption: ~~  (5.772484712451842e-10-1.3640383267343736e-10j)\n",
      "Noise Detected during decryption: ~~  (-1.1345583361688227e-09-1.5044082091186795e-09j)\n"
     ]
    }
   ],
   "source": [
    "for i in range (0, slots):\n",
    "    if(buf_message[i]!=message_array[i]):\n",
    "        print(\"Noise Detected during decryption: ~~ \",buf_message[i]-message_array[i])"
   ]
  },
  {
   "cell_type": "code",
   "execution_count": 24,
   "id": "0a1f0bfe",
   "metadata": {},
   "outputs": [
    {
     "name": "stdout",
     "output_type": "stream",
     "text": [
      "HW EXECUTION TIME:  400.46684443950653  microseconds\n",
      "SW EXECUTION TIME:  1051864  microseconds\n",
      "HW SPEEDUP:  2626.594472439258 x\n"
     ]
    }
   ],
   "source": [
    "print(\"HW EXECUTION TIME: \", execution_time_us, \" microseconds\")\n",
    "print(\"SW EXECUTION TIME: \", encryption_time, \" microseconds\")\n",
    "print(\"HW SPEEDUP: \", encryption_time/execution_time_us, \"x\")"
   ]
  },
  {
   "cell_type": "code",
   "execution_count": null,
   "id": "afd238bd",
   "metadata": {},
   "outputs": [],
   "source": []
  }
 ],
 "metadata": {
  "kernelspec": {
   "display_name": "Python 3 (ipykernel)",
   "language": "python",
   "name": "python3"
  },
  "language_info": {
   "codemirror_mode": {
    "name": "ipython",
    "version": 3
   },
   "file_extension": ".py",
   "mimetype": "text/x-python",
   "name": "python",
   "nbconvert_exporter": "python",
   "pygments_lexer": "ipython3",
   "version": "3.10.12"
  }
 },
 "nbformat": 4,
 "nbformat_minor": 5
}
