{
 "cells": [
  {
   "cell_type": "code",
   "execution_count": 1,
   "id": "b1af0df8",
   "metadata": {},
   "outputs": [],
   "source": [
    "from pynq import Overlay\n",
    "from pynq import allocate \n",
    "import numpy as np\n",
    "import struct\n",
    "import subprocess\n",
    "import time\n",
    "import re"
   ]
  },
  {
   "cell_type": "code",
   "execution_count": 2,
   "id": "caf32a15",
   "metadata": {},
   "outputs": [],
   "source": [
    "#PARAMETERS\n",
    "MAX_ROT_GROUP_SIZE = 128\n",
    "MAX_KSI_POWS_SIZE = 513\n",
    "MAX_QPOW_VEC_SIZE = 65\n",
    "SIGMA = 3.2\n",
    "H = 64 \n",
    "RND_SIZE = 257\n",
    "LOG_N = 8\n",
    "LOG_Q = 32\n",
    "LOG_q = 32\n",
    "LOG_P = 30\n",
    "MAX_Z_SIZE = 256\n",
    "MAX_ZZX_DEGREE = 513\n",
    "MAX_SLOTS = 8\n",
    "slots = np.int64(8)"
   ]
  },
  {
   "cell_type": "code",
   "execution_count": 3,
   "id": "c4766a83",
   "metadata": {},
   "outputs": [],
   "source": [
    "rnd_filename = \"data/rnd.data\"\n",
    "\n",
    "secret_key_coeff_filename = \"data/secretKey.data\"\n",
    "secret_key_degree_filename = \"data/secretKey.degree\"\n",
    "\n",
    "enc_key_ax_coeff_filename = \"data/encKeyAx.data\"\n",
    "enc_key_ax_degree_filename = \"data/encKeyAx.degree\"\n",
    "\n",
    "enc_key_bx_coeff_filename = \"data/encKeyBx.data\"\n",
    "enc_key_bx_degree_filename = \"data/encKeyBx.degree\"\n",
    "\n",
    "message_filename = \"data/message.data\"\n",
    "\n",
    "cipher_ax_coeff_filename = \"data/cipherAx.data\"\n",
    "cipher_ax_degree_filename = \"data/cipherAx.degree\"\n",
    "\n",
    "cipher_bx_coeff_filename = \"data/cipherBx.data\"\n",
    "cipher_bx_degree_filename = \"data/cipherBx.degree\"\n",
    "\n",
    "\n",
    "\n",
    "data_generator_path = './data_gen'"
   ]
  },
  {
   "cell_type": "code",
   "execution_count": 4,
   "id": "2d94754c",
   "metadata": {},
   "outputs": [
    {
     "name": "stdout",
     "output_type": "stream",
     "text": [
      "Output stdout: context initiazlied\n",
      "Context Parameters : \n",
      "sigma: 3.2\n",
      "h: 64\n",
      "N: 256\n",
      "Nh: 128\n",
      "logNh: 7\n",
      "M: 512\n",
      "logQQ: 64\n",
      "Q: 4294967296\n",
      "QQ: 18446744073709551616\n",
      "secret key initialized\n",
      "scheme initialized\n",
      "[INFO] SW encryption execution time: 877180 microseconds\n",
      "[INFO] SW decryption execution time: 423265 microseconds\n",
      "\n"
     ]
    }
   ],
   "source": [
    "# Execute the binary for data generation\n",
    "result = subprocess.run([data_generator_path], capture_output=True, text=True)\n",
    "\n",
    "# Check the return code to see if the execution was successful\n",
    "if result.returncode == 0:\n",
    "    # Print the output of the binary\n",
    "    print(\"Output stdout:\", result.stdout)\n",
    "else:\n",
    "    # Print the error if the binary was not executed successfully\n",
    "    print(\"Error executing the binary\")\n",
    "    print(\"Output stderr:\", result.stderr)\n",
    "\n",
    "output = result.stdout\n",
    "encryption_time_match = re.search(r'\\[INFO\\] SW encryption execution time: (\\d+) microseconds', output)\n",
    "decryption_time_match = re.search(r'\\[INFO\\] SW decryption execution time: (\\d+) microseconds', output)\n",
    "\n",
    "if encryption_time_match and decryption_time_match:\n",
    "    encryption_time = int(encryption_time_match.group(1))\n",
    "    decryption_time = int(decryption_time_match.group(1))"
   ]
  },
  {
   "cell_type": "code",
   "execution_count": 5,
   "id": "c53a9d19",
   "metadata": {},
   "outputs": [],
   "source": [
    "def read_long_array_from_file(filename, size):\n",
    "    # read long array from binary file\n",
    "    data = np.fromfile(filename, dtype=np.int64, count=size)\n",
    "    return data"
   ]
  },
  {
   "cell_type": "code",
   "execution_count": 6,
   "id": "dd23e0bb",
   "metadata": {},
   "outputs": [],
   "source": [
    "def read_int64_from_file(filename):\n",
    "    # Reads a single 64-bit integer from the binary file\n",
    "    data = np.fromfile(filename, dtype=np.int64, count=1)\n",
    "    \n",
    "    # Checks if the file contains at least one 64-bit integer\n",
    "    if data.size == 0:\n",
    "        raise ValueError(f\"The file {filename} is empty or does not contain a valid 64-bit integer.\")\n",
    "    \n",
    "    return data[0]"
   ]
  },
  {
   "cell_type": "code",
   "execution_count": 7,
   "id": "0579bb0d",
   "metadata": {},
   "outputs": [],
   "source": [
    "def read_and_convert_array(filename, size, max_z_size):\n",
    "    # Calculates the number of int64 needed to represent an integer of max_z_size bits\n",
    "    num_int64 = max_z_size // 64\n",
    "    \n",
    "    # Reads the data from the binary file as integers of max_z_size bits\n",
    "    data = np.fromfile(filename, dtype=np.int64, count=size*num_int64)\n",
    "    \n",
    "    return data"
   ]
  },
  {
   "cell_type": "code",
   "execution_count": 8,
   "id": "80a31b61",
   "metadata": {},
   "outputs": [],
   "source": [
    "def read_complex_array_from_file(filename, size):\n",
    "    # Reads the data from the binary file as 128-bit complex numbers (complex128)\n",
    "    data = np.fromfile(filename, dtype=np.complex128, count=size)\n",
    "\n",
    "    return data"
   ]
  },
  {
   "cell_type": "code",
   "execution_count": 9,
   "id": "4b026337",
   "metadata": {},
   "outputs": [
    {
     "name": "stdout",
     "output_type": "stream",
     "text": [
      "Size of the array in bytes: 2056\n"
     ]
    }
   ],
   "source": [
    "rnd_array = read_long_array_from_file(rnd_filename, RND_SIZE)\n",
    "print(f\"Size of the array in bytes: {rnd_array.nbytes}\")"
   ]
  },
  {
   "cell_type": "code",
   "execution_count": 10,
   "id": "844e2f68",
   "metadata": {},
   "outputs": [
    {
     "name": "stdout",
     "output_type": "stream",
     "text": [
      "Secret key degree: 256\n"
     ]
    }
   ],
   "source": [
    "sx_degree = read_int64_from_file(secret_key_degree_filename)\n",
    "print(f\"Secret key degree: {sx_degree}\")"
   ]
  },
  {
   "cell_type": "code",
   "execution_count": 11,
   "id": "ed8dc006",
   "metadata": {},
   "outputs": [
    {
     "name": "stdout",
     "output_type": "stream",
     "text": [
      "Size of the secret key in bytes: 8224\n"
     ]
    }
   ],
   "source": [
    "sx = read_and_convert_array(secret_key_coeff_filename, sx_degree +1, MAX_Z_SIZE)\n",
    "print(f\"Size of the secret key in bytes: {sx.nbytes}\")"
   ]
  },
  {
   "cell_type": "code",
   "execution_count": 12,
   "id": "81f8c291",
   "metadata": {
    "scrolled": true
   },
   "outputs": [
    {
     "name": "stdout",
     "output_type": "stream",
     "text": [
      "EncKey.ax degree: 256\n",
      "Size of EncKey.ax in bytes: 8224\n"
     ]
    }
   ],
   "source": [
    "ax_degree = read_int64_from_file(enc_key_ax_degree_filename)\n",
    "print(f\"EncKey.ax degree: {ax_degree}\")\n",
    "\n",
    "ax = read_and_convert_array(enc_key_ax_coeff_filename, ax_degree + 1, MAX_Z_SIZE)\n",
    "print(f\"Size of EncKey.ax in bytes: {ax.nbytes}\")"
   ]
  },
  {
   "cell_type": "code",
   "execution_count": 13,
   "id": "579e0278",
   "metadata": {},
   "outputs": [
    {
     "name": "stdout",
     "output_type": "stream",
     "text": [
      "EncKey.bx degree: 256\n",
      "Size of EncKey.bx in bytes: 8224\n"
     ]
    }
   ],
   "source": [
    "bx_degree = read_int64_from_file(enc_key_bx_degree_filename)\n",
    "print(f\"EncKey.bx degree: {bx_degree}\")\n",
    "\n",
    "bx = read_and_convert_array(enc_key_bx_coeff_filename, bx_degree + 1, MAX_Z_SIZE)\n",
    "print(f\"Size of EncKey.bx in bytes: {bx.nbytes}\")"
   ]
  },
  {
   "cell_type": "code",
   "execution_count": 14,
   "id": "cf57890d",
   "metadata": {},
   "outputs": [
    {
     "name": "stdout",
     "output_type": "stream",
     "text": [
      "Size of the message array in bytes: 128\n"
     ]
    }
   ],
   "source": [
    "message_array = read_complex_array_from_file(message_filename, slots)\n",
    "print(f\"Size of the message array in bytes: {message_array.nbytes}\")"
   ]
  },
  {
   "cell_type": "code",
   "execution_count": 15,
   "id": "2f5f2fd0",
   "metadata": {},
   "outputs": [
    {
     "data": {
      "application/javascript": [
       "\n",
       "try {\n",
       "require(['notebook/js/codecell'], function(codecell) {\n",
       "  codecell.CodeCell.options_default.highlight_modes[\n",
       "      'magic_text/x-csrc'] = {'reg':[/^%%microblaze/]};\n",
       "  Jupyter.notebook.events.one('kernel_ready.Kernel', function(){\n",
       "      Jupyter.notebook.get_cells().map(function(cell){\n",
       "          if (cell.cell_type == 'code'){ cell.auto_highlight(); } }) ;\n",
       "  });\n",
       "});\n",
       "} catch (e) {};\n"
      ]
     },
     "metadata": {},
     "output_type": "display_data"
    },
    {
     "data": {
      "application/javascript": [
       "\n",
       "try {\n",
       "require(['notebook/js/codecell'], function(codecell) {\n",
       "  codecell.CodeCell.options_default.highlight_modes[\n",
       "      'magic_text/x-csrc'] = {'reg':[/^%%pybind11/]};\n",
       "  Jupyter.notebook.events.one('kernel_ready.Kernel', function(){\n",
       "      Jupyter.notebook.get_cells().map(function(cell){\n",
       "          if (cell.cell_type == 'code'){ cell.auto_highlight(); } }) ;\n",
       "  });\n",
       "});\n",
       "} catch (e) {};\n"
      ]
     },
     "metadata": {},
     "output_type": "display_data"
    }
   ],
   "source": [
    "overlay = Overlay(\"./ckks_encryption_wrapper.xsa\")"
   ]
  },
  {
   "cell_type": "code",
   "execution_count": 16,
   "id": "2e87f938",
   "metadata": {},
   "outputs": [],
   "source": [
    "enc_ip = overlay.ckks_ker_0"
   ]
  },
  {
   "cell_type": "code",
   "execution_count": 17,
   "id": "2966caf3",
   "metadata": {},
   "outputs": [
    {
     "data": {
      "text/plain": [
       "Register(AP_START=0, AP_DONE=0, AP_IDLE=1, AP_READY=0, RESERVED_1=0, AUTO_RESTART=0, RESERVED_2=0, INTERRUPT=0, RESERVED_3=0)"
      ]
     },
     "execution_count": 17,
     "metadata": {},
     "output_type": "execute_result"
    }
   ],
   "source": [
    "enc_ip.register_map.CTRL"
   ]
  },
  {
   "cell_type": "code",
   "execution_count": 18,
   "id": "c553dc14",
   "metadata": {},
   "outputs": [
    {
     "data": {
      "text/plain": [
       "4"
      ]
     },
     "execution_count": 18,
     "metadata": {},
     "output_type": "execute_result"
    }
   ],
   "source": [
    "enc_ip.read(0x00)"
   ]
  },
  {
   "cell_type": "code",
   "execution_count": 19,
   "id": "66c18fcd",
   "metadata": {},
   "outputs": [],
   "source": [
    "buf_rnd = allocate(RND_SIZE, np.int64)\n",
    "\n",
    "buf_rnd[:] = rnd_array[:]\n",
    "buf_rnd.flush()\n",
    "\n",
    "\n",
    "buf_sx = allocate((sx_degree+1)*(MAX_Z_SIZE//64), np.int64)\n",
    "\n",
    "buf_sx[:] = sx[:]\n",
    "buf_sx.flush()\n",
    "\n",
    "\n",
    "buf_enc_ax = allocate((ax_degree+1)*(MAX_Z_SIZE//64), np.int64)\n",
    "\n",
    "buf_enc_ax[:] = ax[:]\n",
    "buf_enc_ax.flush()\n",
    "\n",
    "buf_enc_bx = allocate((bx_degree+1)*(MAX_Z_SIZE//64), np.int64)\n",
    "buf_enc_bx[:] = bx[:]\n",
    "buf_enc_bx.flush()\n",
    "\n",
    "buf_message = allocate(slots, np.complex128)\n",
    "buf_message[:] = message_array[:]\n",
    "buf_message.flush()"
   ]
  },
  {
   "cell_type": "code",
   "execution_count": 20,
   "id": "5a807c9c",
   "metadata": {},
   "outputs": [],
   "source": [
    "buf_ax_out = allocate((MAX_ZZX_DEGREE)*(MAX_Z_SIZE//64), np.int64)\n",
    "buf_bx_out = allocate((MAX_ZZX_DEGREE)*(MAX_Z_SIZE//64), np.int64)\n",
    "buf_ax_degree_out = allocate(1,np.int64)\n",
    "buf_bx_degree_out = allocate(1,np.int64)"
   ]
  },
  {
   "cell_type": "code",
   "execution_count": 21,
   "id": "8e09e330",
   "metadata": {},
   "outputs": [],
   "source": [
    "slots_bytes = slots.tobytes()\n",
    "ax_degree_b = ax_degree.tobytes()\n",
    "bx_degree_b = bx_degree.tobytes()"
   ]
  },
  {
   "cell_type": "code",
   "execution_count": 22,
   "id": "89f253d0",
   "metadata": {},
   "outputs": [],
   "source": [
    "enc_ip.write(0x10,buf_message.physical_address)\n",
    "enc_ip.write(0x1c,slots_bytes[:4])\n",
    "enc_ip.write(0x20,slots_bytes[-4:])\n",
    "enc_ip.write(0x28,buf_enc_ax.physical_address)\n",
    "enc_ip.write(0x34,ax_degree_b[:4])\n",
    "enc_ip.write(0x38,ax_degree_b[-4:])\n",
    "enc_ip.write(0x40,buf_enc_bx.physical_address)\n",
    "enc_ip.write(0x4c,bx_degree_b[:4])\n",
    "enc_ip.write(0x4c,bx_degree_b[-4:])\n",
    "enc_ip.write(0x58,buf_rnd.physical_address)\n",
    "enc_ip.write(0x64,buf_ax_out.physical_address)\n",
    "enc_ip.write(0x70,buf_bx_out.physical_address)\n",
    "enc_ip.write(0x7c,buf_ax_degree_out.physical_address)\n",
    "enc_ip.write(0x88,buf_bx_degree_out.physical_address)"
   ]
  },
  {
   "cell_type": "code",
   "execution_count": 23,
   "id": "714489b2",
   "metadata": {},
   "outputs": [],
   "source": [
    "\n",
    "enc_ip.write(0x00,1)\n",
    "start_time = time.perf_counter()\n",
    "while(enc_ip.read(0x00) & 0x04 != 0x04):\n",
    "      pass\n",
    "end_time = time.perf_counter()"
   ]
  },
  {
   "cell_type": "code",
   "execution_count": 24,
   "id": "e94b52dc",
   "metadata": {},
   "outputs": [],
   "source": [
    "# Calculate the execution time in microseconds\n",
    "execution_time_us = (end_time - start_time) * 1_000_000"
   ]
  },
  {
   "cell_type": "code",
   "execution_count": 25,
   "id": "225b5f76",
   "metadata": {},
   "outputs": [],
   "source": [
    "buf_ax_degree_out.invalidate()\n",
    "buf_bx_degree_out.invalidate()\n",
    "\n",
    "buf_ax_out.invalidate()\n",
    "buf_bx_out.invalidate()"
   ]
  },
  {
   "cell_type": "code",
   "execution_count": 26,
   "id": "2b4eb13a",
   "metadata": {},
   "outputs": [
    {
     "name": "stdout",
     "output_type": "stream",
     "text": [
      "Cipher.ax degree: 256\n",
      "Size of Cipher.ax in bytes: 8224\n"
     ]
    }
   ],
   "source": [
    "ci_ax_degree = read_int64_from_file(cipher_ax_degree_filename)\n",
    "print(f\"Cipher.ax degree: {ci_ax_degree}\")\n",
    "\n",
    "ci_ax = read_and_convert_array(cipher_ax_coeff_filename, ci_ax_degree + 1, MAX_Z_SIZE)\n",
    "print(f\"Size of Cipher.ax in bytes: {ci_ax.nbytes}\")"
   ]
  },
  {
   "cell_type": "code",
   "execution_count": 27,
   "id": "d87900f1",
   "metadata": {},
   "outputs": [
    {
     "name": "stdout",
     "output_type": "stream",
     "text": [
      "Cipher.bx degree: 256\n",
      "Size of Cipher.bx in bytes: 8224\n"
     ]
    }
   ],
   "source": [
    "ci_bx_degree = read_int64_from_file(cipher_bx_degree_filename)\n",
    "print(f\"Cipher.bx degree: {ci_bx_degree}\")\n",
    "\n",
    "ci_bx = read_and_convert_array(cipher_bx_coeff_filename, ci_bx_degree + 1, MAX_Z_SIZE)\n",
    "print(f\"Size of Cipher.bx in bytes: {ci_bx.nbytes}\")"
   ]
  },
  {
   "cell_type": "code",
   "execution_count": 28,
   "id": "6e1c4785",
   "metadata": {},
   "outputs": [],
   "source": [
    "if(buf_ax_degree_out != ci_ax_degree):\n",
    "    print(\"ERROR polynomial ax degree different from software\")"
   ]
  },
  {
   "cell_type": "code",
   "execution_count": 29,
   "id": "2514d64a",
   "metadata": {},
   "outputs": [],
   "source": [
    "if(buf_bx_degree_out != ci_bx_degree):\n",
    "    print(\"ERROR polynomial bx degree different from software\")"
   ]
  },
  {
   "cell_type": "code",
   "execution_count": 30,
   "id": "c7c1ffdc",
   "metadata": {},
   "outputs": [],
   "source": [
    "for i in range (0, (ci_ax_degree+1)*(MAX_Z_SIZE//64)):\n",
    "    if(buf_ax_out[i]!=ci_ax[i]):\n",
    "        print(\"ERROR POLYNOMIAL AX DIFFERENT FROM HW AT INDEX: \",i)"
   ]
  },
  {
   "cell_type": "code",
   "execution_count": 31,
   "id": "9c23452f",
   "metadata": {},
   "outputs": [],
   "source": [
    "for i in range (0, (ci_bx_degree+1)*(MAX_Z_SIZE//64)):\n",
    "    if(buf_bx_out[i]!=ci_bx[i]):\n",
    "        print(\"ERROR POLYNOMIAL BX DIFFERENT FROM HW AT INDEX: \",i)"
   ]
  },
  {
   "cell_type": "code",
   "execution_count": 32,
   "id": "d5e92cb7",
   "metadata": {},
   "outputs": [
    {
     "name": "stdout",
     "output_type": "stream",
     "text": [
      "HW EXECUTION TIME:  422.157347202301  microseconds\n",
      "SW EXECUTION TIME:  877180  microseconds\n",
      "HW SPEEDUP:  2077.8508435615327 x\n"
     ]
    }
   ],
   "source": [
    "print(\"HW EXECUTION TIME: \", execution_time_us, \" microseconds\")\n",
    "print(\"SW EXECUTION TIME: \", encryption_time, \" microseconds\")\n",
    "print(\"HW SPEEDUP: \", encryption_time/execution_time_us, \"x\")"
   ]
  }
 ],
 "metadata": {
  "kernelspec": {
   "display_name": "Python 3 (ipykernel)",
   "language": "python",
   "name": "python3"
  },
  "language_info": {
   "codemirror_mode": {
    "name": "ipython",
    "version": 3
   },
   "file_extension": ".py",
   "mimetype": "text/x-python",
   "name": "python",
   "nbconvert_exporter": "python",
   "pygments_lexer": "ipython3",
   "version": "3.10.12"
  }
 },
 "nbformat": 4,
 "nbformat_minor": 5
}
